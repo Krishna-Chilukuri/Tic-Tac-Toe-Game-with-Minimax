{
 "cells": [
  {
   "cell_type": "code",
   "execution_count": 2,
   "metadata": {},
   "outputs": [],
   "source": [
    "winList = [((0,0), (0,1), (0,2)), ((1,0), (1,1), (1,2)), ((2,0), (2,1), (2,2)),\n",
    "           ((0,0), (1,0), (2,0)), ((0,1), (1,1), (2,1)), ((0,2), (1,2), (2,2)),\n",
    "           ((0,0), (1,1), (2,2)), ((0,2), (1,1), (2,0))]\n",
    "\n",
    "xoMatrix = [\n",
    "    [0, 0, 0],\n",
    "    [0, 0, 0],\n",
    "    [0, 0, 0],\n",
    "]\n",
    "# 0 - Empty\n",
    "# 1 - X\n",
    "# 2 - O\n"
   ]
  },
  {
   "cell_type": "code",
   "execution_count": 3,
   "metadata": {},
   "outputs": [],
   "source": [
    "def checkForWin(val):\n",
    "    for listOf3 in winList:\n",
    "        if xoMatrix[listOf3[0][0]][listOf3[0][1]] == xoMatrix[listOf3[1][0]][listOf3[1][1]] == xoMatrix[listOf3[2][0]][listOf3[2][1]] == val:\n",
    "            return True\n",
    "    return False\n",
    "\n",
    "def checkForDraw():\n",
    "    for i in range(3):\n",
    "        for j in range(3):\n",
    "            if xoMatrix[i][j] == 0:\n",
    "                return False\n",
    "    return True\n",
    "\n",
    "def computerMove():\n",
    "    \n"
   ]
  },
  {
   "cell_type": "code",
   "execution_count": 4,
   "metadata": {},
   "outputs": [
    {
     "name": "stdout",
     "output_type": "stream",
     "text": [
      "RESULT:  True\n",
      "WIN RESULT:  True\n",
      "It's a Win - Win situation\n"
     ]
    }
   ],
   "source": [
    "print(\"RESULT: \",checkForDraw())\n",
    "print(\"WIN RESULT: \",checkForWin(1))\n",
    "while True:\n",
    "    if checkForDraw():\n",
    "        print(\"It's a Win - Win situation\")\n",
    "        break\n",
    "    if checkForWin(2):\n",
    "        print(\"My AI Won against u, LOL\")\n",
    "        break\n",
    "    iPos = int(input(\"Enter i Position: \"))\n",
    "    jPos = int(input(\"Enter j Position: \"))\n",
    "    if xoMatrix[iPos][jPos] == 0:\n",
    "        xoMatrix[iPos][jPos] = 1\n",
    "    else:\n",
    "        print(\"Invalid Position, Select Another Position\")\n",
    "\n",
    "    if checkForWin(1):\n",
    "        print(\"U WON!!!!!\")\n",
    "        break\n",
    "    computerMove()"
   ]
  }
 ],
 "metadata": {
  "kernelspec": {
   "display_name": "Python 3",
   "language": "python",
   "name": "python3"
  },
  "language_info": {
   "codemirror_mode": {
    "name": "ipython",
    "version": 3
   },
   "file_extension": ".py",
   "mimetype": "text/x-python",
   "name": "python",
   "nbconvert_exporter": "python",
   "pygments_lexer": "ipython3",
   "version": "3.11.2"
  }
 },
 "nbformat": 4,
 "nbformat_minor": 2
}
